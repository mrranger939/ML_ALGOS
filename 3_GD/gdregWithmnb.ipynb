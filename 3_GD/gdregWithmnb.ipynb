{
 "cells": [
  {
   "cell_type": "code",
   "execution_count": 111,
   "id": "782271ec",
   "metadata": {},
   "outputs": [],
   "source": [
    "from sklearn.datasets import make_regression\n",
    "import matplotlib.pyplot as plt\n",
    "import numpy as np\n",
    "from sklearn.metrics import r2_score"
   ]
  },
  {
   "cell_type": "code",
   "execution_count": 112,
   "id": "fc2d3cf5",
   "metadata": {},
   "outputs": [],
   "source": [
    "X, y = make_regression(n_samples=100, n_features=1, n_targets=1, n_informative=1, noise=20, random_state=42)"
   ]
  },
  {
   "cell_type": "code",
   "execution_count": 113,
   "id": "68015b19",
   "metadata": {},
   "outputs": [
    {
     "data": {
      "text/plain": [
       "<matplotlib.collections.PathCollection at 0x1e7bc287800>"
      ]
     },
     "execution_count": 113,
     "metadata": {},
     "output_type": "execute_result"
    },
    {
     "data": {
      "image/png": "[encoded data removed]",
      "text/plain": [
       "<Figure size 640x480 with 1 Axes>"
      ]
     },
     "metadata": {},
     "output_type": "display_data"
    }
   ],
   "source": [
    "plt.scatter(X,y)"
   ]
  },
  {
   "cell_type": "code",
   "execution_count": 114,
   "id": "5ada0d9d",
   "metadata": {},
   "outputs": [
    {
     "data": {
      "text/plain": [
       "array([47.13323967])"
      ]
     },
     "execution_count": 114,
     "metadata": {},
     "output_type": "execute_result"
    }
   ],
   "source": [
    "from sklearn.linear_model import LinearRegression\n",
    "lr = LinearRegression()\n",
    "lr.fit(X,y)\n",
    "lr.coef_"
   ]
  },
  {
   "cell_type": "code",
   "execution_count": 115,
   "id": "f590146f",
   "metadata": {},
   "outputs": [
    {
     "data": {
      "text/plain": [
       "2.3302306410539453"
      ]
     },
     "execution_count": 115,
     "metadata": {},
     "output_type": "execute_result"
    }
   ],
   "source": [
    "lr.intercept_"
   ]
  },
  {
   "cell_type": "code",
   "execution_count": 116,
   "id": "b1e904c3",
   "metadata": {},
   "outputs": [],
   "source": [
    "class  GDRegressor:\n",
    "    def __init__(self, learning_rate, epochs):\n",
    "        self.m = 1\n",
    "        self.b = 0\n",
    "        self.lr = learning_rate\n",
    "        self.epochs = epochs\n",
    "    def fit(self, X,y):\n",
    "        for i in range(self.epochs):\n",
    "            self.m = self.m - (-2*np.sum((y-self.m*X.ravel()-self.b)*X.ravel()))*self.lr\n",
    "            self.b = self.b - (-2*np.sum(y-self.m*X.ravel()-self.b))*self.lr\n",
    "        print(f\"m: {self.m} and b: {self.b}\")\n",
    "    def predict(self,X):\n",
    "        return self.m *X + self.b"
   ]
  },
  {
   "cell_type": "code",
   "execution_count": 117,
   "id": "f8f75e03",
   "metadata": {},
   "outputs": [
    {
     "name": "stdout",
     "output_type": "stream",
     "text": [
      "m: 47.13298580400781 and b: 2.330128601473969\n"
     ]
    }
   ],
   "source": [
    "gd = GDRegressor(0.001, 70) # low learning rate is better try by increasing the learning rate\n",
    "gd.fit(X,y)"
   ]
  },
  {
   "cell_type": "code",
   "execution_count": 118,
   "id": "f71e6b78",
   "metadata": {},
   "outputs": [],
   "source": [
    "y_pred = gd.predict(X)"
   ]
  },
  {
   "cell_type": "code",
   "execution_count": 119,
   "id": "ae44c735",
   "metadata": {},
   "outputs": [
    {
     "data": {
      "text/plain": [
       "0.8531542072905381"
      ]
     },
     "execution_count": 119,
     "metadata": {},
     "output_type": "execute_result"
    }
   ],
   "source": [
    "\n",
    "r2_score(y, y_pred)"
   ]
  },
  {
   "cell_type": "code",
   "execution_count": null,
   "id": "ec870521",
   "metadata": {},
   "outputs": [],
   "source": []
  }
 ],
 "metadata": {
  "kernelspec": {
   "display_name": "Python 3",
   "language": "python",
   "name": "python3"
  },
  "language_info": {
   "codemirror_mode": {
    "name": "ipython",
    "version": 3
   },
   "file_extension": ".py",
   "mimetype": "text/x-python",
   "name": "python",
   "nbconvert_exporter": "python",
   "pygments_lexer": "ipython3",
   "version": "3.12.1"
  }
 },
 "nbformat": 4,
 "nbformat_minor": 5
}
